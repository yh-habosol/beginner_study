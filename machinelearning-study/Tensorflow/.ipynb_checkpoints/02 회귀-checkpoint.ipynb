{
 "cells": [
  {
   "cell_type": "code",
   "execution_count": null,
   "metadata": {},
   "outputs": [],
   "source": [
    "'''\n",
    "선형 회귀는 데이터의 경향성을 가장 잘 설명하는 하나의 직선을 예측하는 것입니다. 선형 회귀를 이용하면 데이터에 대한 경향성을\n",
    "예측할 수 있습니다. \n",
    "\n",
    "데이터의 경향성을 가장 잘 설명하는 하나의 직선과 각 데이터의 차이를 잔차라고 합니다 잔차의 제곱을 최소화하는 알고리즘을\n",
    "최소제곱법이라고 합니다. \n",
    "최소제곱법으로 y=ax+b의 a,b를 구할 수 있습니다. \n",
    "최소제곱법을 이용해서 회귀선을 구해보도록 하겠습니다.\n",
    "'''"
   ]
  },
  {
   "cell_type": "code",
   "execution_count": 1,
   "metadata": {},
   "outputs": [],
   "source": [
    "import tensorflow as tf\n",
    "import numpy as np\n",
    "import matplotlib.pyplot as plt"
   ]
  },
  {
   "cell_type": "code",
   "execution_count": 12,
   "metadata": {},
   "outputs": [
    {
     "name": "stdout",
     "output_type": "stream",
     "text": [
      "a: -0.355834147915461 b: 15.669317743971302\n"
     ]
    },
    {
     "data": {
      "image/png": "[encoded data removed]",
      "text/plain": [
       "<Figure size 432x288 with 1 Axes>"
      ]
     },
     "metadata": {
      "needs_background": "light"
     },
     "output_type": "display_data"
    }
   ],
   "source": [
    "##최소제곱법으로 회귀선 구하기\n",
    "\n",
    "X = [0.3, -0.78, 1.26, 0.03, 1.11, 0.24, -0.24, -0.47, -0.77, -0.37, -0.85, -0.41, -0.27, 0.02, -0.76, 2.66]\n",
    "Y = [12.27, 14.44, 11.87, 18.75, 17.52, 16.37, 19.78, 19.51, 12.65, 14.74, 10.72, 21.94, 12.83, 15.51, 17.14, 14.42]\n",
    "\n",
    "x_bar = sum(X)/len(X)\n",
    "y_bar = sum(Y)/len(Y)\n",
    "\n",
    "a = sum([(y-y_bar)*(x-x_bar) for y, x in list(zip(Y,X))])\n",
    "a /= sum([(x-x_bar)**2 for x in X] )\n",
    "b = y_bar - a*x_bar\n",
    "print(\"a:\", a, \"b:\", b)\n",
    "line_x = np.arange(min(X), max(X), 0.01)\n",
    "line_y = a*line_x + b\n",
    "\n",
    "plt.plot(line_x, line_y, 'r-')\n",
    "\n",
    "plt.plot(X,Y,'bo')\n",
    "plt.xlabel(\"Population Growh Rate\")\n",
    "plt.ylabel(\"Elderly Population\")\n",
    "plt.show()\n",
    "\n",
    "##회귀선을 통해 데이터의 경향성을 알 수 있습니다.\n",
    "##X값이 증가할수록 Y값은 감소함을 알 수 있습니다. 즉, 음의 상관관계임을 알 수 있습니다."
   ]
  },
  {
   "cell_type": "code",
   "execution_count": 20,
   "metadata": {},
   "outputs": [
    {
     "name": "stdout",
     "output_type": "stream",
     "text": [
      "0 a: 0.18972728 b: 0.19875245 loss: 248.62627\n",
      "100 a: 0.13059218 b: 6.571724 loss: 92.35504\n",
      "200 a: -0.111199364 b: 11.07707 loss: 30.820623\n",
      "300 a: -0.2523882 b: 13.727177 loss: 13.543965\n",
      "400 a: -0.31968808 b: 14.9906845 loss: 10.240279\n",
      "500 a: -0.34545007 b: 15.474361 loss: 9.818724\n",
      "600 a: -0.35339135 b: 15.623457 loss: 9.782902\n",
      "700 a: -0.35536674 b: 15.660546 loss: 9.78088\n",
      "800 a: -0.35576248 b: 15.66797 loss: 9.780806\n",
      "900 a: -0.35582525 b: 15.669153 loss: 9.780804\n",
      "1000 a: -0.35583317 b: 15.669302 loss: 9.780804\n"
     ]
    },
    {
     "data": {
      "image/png": "[encoded data removed]",
      "text/plain": [
       "<Figure size 432x288 with 1 Axes>"
      ]
     },
     "metadata": {
      "needs_background": "light"
     },
     "output_type": "display_data"
    }
   ],
   "source": [
    "##최소제곱법을 쓰지 않고 텐서플로를 통해서도 구현할 수 있습니다.\n",
    "\n",
    "import random\n",
    "\n",
    "X = [0.3, -0.78, 1.26, 0.03, 1.11, 0.24, -0.24, -0.47, -0.77, -0.37, -0.85, -0.41, -0.27, 0.02, -0.76, 2.66]\n",
    "Y = [12.27, 14.44, 11.87, 18.75, 17.52, 16.37, 19.78, 19.51, 12.65, 14.74, 10.72, 21.94, 12.83, 15.51, 17.14, 14.42]\n",
    "\n",
    "\n",
    "##랜덤 값으로 a, b값 설정\n",
    "a = tf.Variable(random.random())\n",
    "b = tf.Variable(random.random())\n",
    "\n",
    "\n",
    "##잔차 제곱 평균 반환하는 함수\n",
    "def compute_loss():\n",
    "    y_pred = a*X+b\n",
    "    loss = tf.reduce_mean((Y-y_pred)**2)\n",
    "    return loss\n",
    "\n",
    "#최적화 함수 정의\n",
    "optimizer = tf.optimizers.Adam(lr=0.07)\n",
    "for i in range(1001):\n",
    "    optimizer.minimize(compute_loss, var_list=[a,b])\n",
    "    \n",
    "    if i%100==0:\n",
    "        print(i, \"a:\", a.numpy(), \"b:\", b.numpy(), \"loss:\",compute_loss().numpy())\n",
    "\n",
    "line_x = np.arange(min(X), max(X), 0.01)\n",
    "line_y = a*line_x + b\n",
    "\n",
    "plt.plot(line_x, line_y, 'r-')\n",
    "plt.plot(X,Y, 'bo')\n",
    "plt.show()\n"
   ]
  },
  {
   "cell_type": "code",
   "execution_count": 21,
   "metadata": {},
   "outputs": [
    {
     "name": "stdout",
     "output_type": "stream",
     "text": [
      "0 a: 0.13387954 b: 0.41208756 c: 0.7955661 loss: 227.6837\n",
      "100 a: 3.9914968 b: -5.8910546 c: 6.6771164 loss: 65.99075\n",
      "200 a: 2.7530742 b: -4.399044 c: 10.38996 loss: 30.808317\n",
      "300 a: 1.2433205 b: -2.1808174 c: 12.984693 loss: 15.807794\n",
      "400 a: 0.301563 b: -0.7964824 c: 14.604976 loss: 10.917141\n",
      "500 a: -0.19942741 b: -0.060313594 c: 15.468817 loss: 9.71594\n",
      "600 a: -0.4293487 b: 0.27751735 c: 15.865425 loss: 9.491768\n",
      "700 a: -0.5207052 b: 0.41174808 c: 16.023026 loss: 9.459869\n",
      "800 a: -0.55217934 b: 0.4579948 c: 16.077318 loss: 9.456413\n",
      "900 a: -0.5615645 b: 0.47178343 c: 16.093513 loss: 9.456129\n",
      "1000 a: -0.563982 b: 0.47533625 c: 16.097681 loss: 9.456111\n"
     ]
    },
    {
     "data": {
      "image/png": "[encoded data removed]",
      "text/plain": [
       "<Figure size 432x288 with 1 Axes>"
      ]
     },
     "metadata": {
      "needs_background": "light"
     },
     "output_type": "display_data"
    }
   ],
   "source": [
    "##이렇게 얻은 회귀선이 데이터를 잘 반영하고 있을지 의문이 생기게 됩니다. 보다 정확하게 데이터를 반영하기 위해\n",
    "##다른 방법을 이용해 보도록 하겠습니다. \n",
    "\n",
    "##비선형 회귀는 선형회귀로는 표현할 수 없는 데이터의 경향성을 설명하기 위한 회귀입니다. \n",
    "#2차, 3차 등의 다항식을 이용한 회귀를 다항회귀라고 합니다.\n",
    "##2차함수를 회귀선으로 써보도록 하겠습니다.\n",
    "\n",
    "X = [0.3, -0.78, 1.26, 0.03, 1.11, 0.24, -0.24, -0.47, -0.77, -0.37, -0.85, -0.41, -0.27, 0.02, -0.76, 2.66]\n",
    "Y = [12.27, 14.44, 11.87, 18.75, 17.52, 16.37, 19.78, 19.51, 12.65, 14.74, 10.72, 21.94, 12.83, 15.51, 17.14, 14.42]\n",
    "\n",
    "\n",
    "##랜덤 값으로 a, b값 설정\n",
    "a = tf.Variable(random.random())\n",
    "b = tf.Variable(random.random())\n",
    "c = tf.Variable(random.random())\n",
    "\n",
    "\n",
    "##잔차 제곱 평균 반환하는 함수\n",
    "def compute_loss():\n",
    "    y_pred = a*X*X+b*X+c\n",
    "    loss = tf.reduce_mean((Y-y_pred)**2)\n",
    "    return loss\n",
    "\n",
    "#최적화 함수 정의\n",
    "optimizer = tf.optimizers.Adam(lr=0.07)\n",
    "for i in range(1001):\n",
    "    optimizer.minimize(compute_loss, var_list=[a,b,c])\n",
    "    \n",
    "    if i%100==0:\n",
    "        print(i, \"a:\", a.numpy(), \"b:\", b.numpy(), \"c:\", c.numpy(),\"loss:\",compute_loss().numpy())\n",
    "\n",
    "line_x = np.arange(min(X), max(X), 0.01)\n",
    "line_y = a*line_x*line_x + b*line_x + c\n",
    "\n",
    "plt.plot(line_x, line_y, 'r-')\n",
    "plt.plot(X,Y, 'bo')\n",
    "plt.show()\n"
   ]
  },
  {
   "cell_type": "code",
   "execution_count": 22,
   "metadata": {},
   "outputs": [],
   "source": [
    "##loss가 살짝 떨어진 것을 확인할 수 있습니다.\n",
    "##항을 높여보면 오히려 loss가 높아지는 것을 확인할 수 있습니다.\n",
    "##다항 회귀 뿐만 아니라, 지수, 로그 함수를 회귀선으로 사용하는 비선형 회귀를 사용할 수 있지만\n",
    "##어떤 함수가 성능이 좋은지는 직접 해보면서 찾을 수밖에 없습니다.\n",
    "##텐서플로에서는 딥러닝 네트워크를 통한 회귀를 지언하여 새로운 방법의 회귀 방법을 이용할 수 있습니다."
   ]
  },
  {
   "cell_type": "code",
   "execution_count": 24,
   "metadata": {},
   "outputs": [
    {
     "name": "stdout",
     "output_type": "stream",
     "text": [
      "Model: \"sequential_1\"\n",
      "_________________________________________________________________\n",
      "Layer (type)                 Output Shape              Param #   \n",
      "=================================================================\n",
      "dense_2 (Dense)              (None, 6)                 12        \n",
      "_________________________________________________________________\n",
      "dense_3 (Dense)              (None, 1)                 7         \n",
      "=================================================================\n",
      "Total params: 19\n",
      "Trainable params: 19\n",
      "Non-trainable params: 0\n",
      "_________________________________________________________________\n"
     ]
    }
   ],
   "source": [
    "X = [0.3, -0.78, 1.26, 0.03, 1.11, 0.24, -0.24, -0.47, -0.77, -0.37, -0.85, -0.41, -0.27, 0.02, -0.76, 2.66]\n",
    "Y = [12.27, 14.44, 11.87, 18.75, 17.52, 16.37, 19.78, 19.51, 12.65, 14.74, 10.72, 21.94, 12.83, 15.51, 17.14, 14.42]\n",
    "\n",
    "model = tf.keras.Sequential([\n",
    "    tf.keras.layers.Dense(units = 6, activation = \"tanh\", input_shape = (1,)),\n",
    "    tf.keras.layers.Dense(units = 1)\n",
    "])\n",
    "\n",
    "model.compile(optimizer=tf.keras.optimizers.SGD(lr=0.1), loss=\"mse\")\n",
    "model.summary()"
   ]
  },
  {
   "cell_type": "code",
   "execution_count": 25,
   "metadata": {},
   "outputs": [
    {
     "name": "stdout",
     "output_type": "stream",
     "text": [
      "Train on 16 samples\n",
      "Epoch 1/10\n",
      "16/16 [==============================] - 0s 27ms/sample - loss: 254.7214\n",
      "Epoch 2/10\n",
      "16/16 [==============================] - 0s 430us/sample - loss: 118.2935\n",
      "Epoch 3/10\n",
      "16/16 [==============================] - 0s 522us/sample - loss: 11.1343\n",
      "Epoch 4/10\n",
      "16/16 [==============================] - 0s 600us/sample - loss: 9.5904\n",
      "Epoch 5/10\n",
      "16/16 [==============================] - 0s 617us/sample - loss: 9.5529\n",
      "Epoch 6/10\n",
      "16/16 [==============================] - 0s 561us/sample - loss: 9.5410\n",
      "Epoch 7/10\n",
      "16/16 [==============================] - 0s 624us/sample - loss: 9.5292\n",
      "Epoch 8/10\n",
      "16/16 [==============================] - 0s 623us/sample - loss: 9.5169\n",
      "Epoch 9/10\n",
      "16/16 [==============================] - 0s 623us/sample - loss: 9.5040\n",
      "Epoch 10/10\n",
      "16/16 [==============================] - 0s 561us/sample - loss: 9.4904\n"
     ]
    },
    {
     "data": {
      "text/plain": [
       "<tensorflow.python.keras.callbacks.History at 0x21a76a53088>"
      ]
     },
     "execution_count": 25,
     "metadata": {},
     "output_type": "execute_result"
    }
   ],
   "source": [
    "##tanh함수는 -1에서 1사이의 출력을 반환합니다. \n",
    "model.fit(X,Y, epochs=10)\n"
   ]
  },
  {
   "cell_type": "code",
   "execution_count": 26,
   "metadata": {},
   "outputs": [
    {
     "data": {
      "text/plain": [
       "array([[15.767771 ],\n",
       "       [15.821693 ],\n",
       "       [15.038233 ],\n",
       "       [15.86817  ],\n",
       "       [15.160753 ],\n",
       "       [15.795963 ],\n",
       "       [15.90292  ],\n",
       "       [15.8885   ],\n",
       "       [15.824499 ],\n",
       "       [15.899124 ],\n",
       "       [15.801065 ],\n",
       "       [15.895626 ],\n",
       "       [15.903126 ],\n",
       "       [15.870588 ],\n",
       "       [15.8272705],\n",
       "       [14.2813225]], dtype=float32)"
      ]
     },
     "execution_count": 26,
     "metadata": {},
     "output_type": "execute_result"
    }
   ],
   "source": [
    "model.predict(X)"
   ]
  },
  {
   "cell_type": "code",
   "execution_count": 27,
   "metadata": {},
   "outputs": [
    {
     "data": {
      "image/png": "[encoded data removed]",
      "text/plain": [
       "<Figure size 432x288 with 1 Axes>"
      ]
     },
     "metadata": {
      "needs_background": "light"
     },
     "output_type": "display_data"
    }
   ],
   "source": [
    "##학습이 잘 됐는지 확인하기 위해 그래프를 그려보도록 하겠습니다.\n",
    "\n",
    "line_x = np.arange(min(X),max(X), 0.01)\n",
    "line_y = model.predict(line_x)\n",
    "plt.plot(line_x, line_y, 'r-')\n",
    "plt.plot(X,Y, 'bo')\n",
    "plt.show()"
   ]
  },
  {
   "cell_type": "code",
   "execution_count": 28,
   "metadata": {},
   "outputs": [],
   "source": [
    "##다항회귀에서 구했던 2차함수와 비슷한 곡선이 나왔음을 확인할 수 있습니다. \n",
    "##이 방법을 이용해서 보스턴 주택 가격 데이터세트의 주택 가격을 회귀로 예측해보겠습니다."
   ]
  },
  {
   "cell_type": "code",
   "execution_count": 32,
   "metadata": {},
   "outputs": [
    {
     "data": {
      "text/plain": [
       "numpy.ndarray"
      ]
     },
     "execution_count": 32,
     "metadata": {},
     "output_type": "execute_result"
    }
   ],
   "source": [
    "from tensorflow.keras.datasets import boston_housing\n",
    "(X_train, Y_train), (X_test, Y_test) = boston_housing.load_data()\n",
    "type(X_train)"
   ]
  },
  {
   "cell_type": "code",
   "execution_count": 33,
   "metadata": {},
   "outputs": [
    {
     "name": "stdout",
     "output_type": "stream",
     "text": [
      "[-0.27224633 -0.48361547 -0.43576161 -0.25683275 -0.1652266  -0.1764426\n",
      "  0.81306188  0.1166983  -0.62624905 -0.59517003  1.14850044  0.44807713\n",
      "  0.8252202 ]\n",
      "-0.7821526033779157\n"
     ]
    }
   ],
   "source": [
    "##데이터는 훈련 셋, 검증 셋, 테스트 셋으로 분류해야 하며, 6:2:2비율로 나눕니다.(데이터 양에 따라 유동적으로 변화 가능)\n",
    "##데이터의 단위가 다르므로 데이터를 전처리해야합니다.\n",
    "##훈련 셋에 정규화를 통해 전처리를 하면, 테스트셋과 검증셋에 대해서도 훈련셋의 평균과 표준편차로 전처리 해줘야 합니다.\n",
    "\n",
    "x_mean = X_train.mean(axis=0)\n",
    "x_std = X_train.std(axis=0)\n",
    "X_train -= x_mean\n",
    "X_train /= x_std\n",
    "X_test -= x_mean\n",
    "X_test /= x_std\n",
    "\n",
    "y_mean = Y_train.mean(axis=0)\n",
    "y_std = Y_train.std(axis=0)\n",
    "Y_train -= y_mean\n",
    "Y_train /= y_std\n",
    "Y_test -= y_mean\n",
    "Y_test /= y_std\n",
    "\n",
    "print(X_train[0])\n",
    "print(Y_train[0])"
   ]
  },
  {
   "cell_type": "code",
   "execution_count": 34,
   "metadata": {},
   "outputs": [
    {
     "name": "stdout",
     "output_type": "stream",
     "text": [
      "Model: \"sequential_2\"\n",
      "_________________________________________________________________\n",
      "Layer (type)                 Output Shape              Param #   \n",
      "=================================================================\n",
      "dense_4 (Dense)              (None, 52)                728       \n",
      "_________________________________________________________________\n",
      "dense_5 (Dense)              (None, 39)                2067      \n",
      "_________________________________________________________________\n",
      "dense_6 (Dense)              (None, 26)                1040      \n",
      "_________________________________________________________________\n",
      "dense_7 (Dense)              (None, 1)                 27        \n",
      "=================================================================\n",
      "Total params: 3,862\n",
      "Trainable params: 3,862\n",
      "Non-trainable params: 0\n",
      "_________________________________________________________________\n"
     ]
    }
   ],
   "source": [
    "##전처리 후, 딥러닝 네트워크를 학습시키겠습니다.\n",
    "\n",
    "model = tf.keras.Sequential([\n",
    "    tf.keras.layers.Dense(units=52, activation='relu', input_shape=(13,)),\n",
    "    tf.keras.layers.Dense(units=39, activation='relu'),\n",
    "    tf.keras.layers.Dense(units=26, activation='relu'),\n",
    "    tf.keras.layers.Dense(units=1)\n",
    "])\n",
    "\n",
    "model.compile(optimizer = tf.keras.optimizers.Adam(lr=0.07), loss='mse')\n",
    "model.summary()"
   ]
  },
  {
   "cell_type": "code",
   "execution_count": 35,
   "metadata": {},
   "outputs": [
    {
     "name": "stdout",
     "output_type": "stream",
     "text": [
      "Train on 303 samples, validate on 101 samples\n",
      "Epoch 1/25\n",
      "303/303 [==============================] - 0s 2ms/sample - loss: 2.0507 - val_loss: 0.9480\n",
      "Epoch 2/25\n",
      "303/303 [==============================] - 0s 86us/sample - loss: 0.4777 - val_loss: 0.6463\n",
      "Epoch 3/25\n",
      "303/303 [==============================] - 0s 96us/sample - loss: 0.4008 - val_loss: 0.4909\n",
      "Epoch 4/25\n",
      "303/303 [==============================] - 0s 98us/sample - loss: 0.2681 - val_loss: 0.2218\n",
      "Epoch 5/25\n",
      "303/303 [==============================] - 0s 92us/sample - loss: 0.1950 - val_loss: 0.2891\n",
      "Epoch 6/25\n",
      "303/303 [==============================] - 0s 84us/sample - loss: 0.1723 - val_loss: 0.1779\n",
      "Epoch 7/25\n",
      "303/303 [==============================] - 0s 104us/sample - loss: 0.1568 - val_loss: 0.1592\n",
      "Epoch 8/25\n",
      "303/303 [==============================] - 0s 95us/sample - loss: 0.1533 - val_loss: 0.2162\n",
      "Epoch 9/25\n",
      "303/303 [==============================] - 0s 86us/sample - loss: 0.1563 - val_loss: 0.1391\n",
      "Epoch 10/25\n",
      "303/303 [==============================] - 0s 82us/sample - loss: 0.1084 - val_loss: 0.1240\n",
      "Epoch 11/25\n",
      "303/303 [==============================] - 0s 89us/sample - loss: 0.1126 - val_loss: 0.1323\n",
      "Epoch 12/25\n",
      "303/303 [==============================] - 0s 80us/sample - loss: 0.0836 - val_loss: 0.1240\n",
      "Epoch 13/25\n",
      "303/303 [==============================] - 0s 77us/sample - loss: 0.0781 - val_loss: 0.1292\n",
      "Epoch 14/25\n",
      "303/303 [==============================] - 0s 79us/sample - loss: 0.0773 - val_loss: 0.1130\n",
      "Epoch 15/25\n",
      "303/303 [==============================] - 0s 85us/sample - loss: 0.0893 - val_loss: 0.1201\n",
      "Epoch 16/25\n",
      "303/303 [==============================] - 0s 90us/sample - loss: 0.0815 - val_loss: 0.1230\n",
      "Epoch 17/25\n",
      "303/303 [==============================] - 0s 75us/sample - loss: 0.0809 - val_loss: 0.1543\n",
      "Epoch 18/25\n",
      "303/303 [==============================] - 0s 82us/sample - loss: 0.0765 - val_loss: 0.1222\n",
      "Epoch 19/25\n",
      "303/303 [==============================] - 0s 86us/sample - loss: 0.0713 - val_loss: 0.2235\n",
      "Epoch 20/25\n",
      "303/303 [==============================] - 0s 76us/sample - loss: 0.0996 - val_loss: 0.1189\n",
      "Epoch 21/25\n",
      "303/303 [==============================] - 0s 82us/sample - loss: 0.1109 - val_loss: 0.1488\n",
      "Epoch 22/25\n",
      "303/303 [==============================] - 0s 72us/sample - loss: 0.0671 - val_loss: 0.1500\n",
      "Epoch 23/25\n",
      "303/303 [==============================] - 0s 86us/sample - loss: 0.0855 - val_loss: 0.1733\n",
      "Epoch 24/25\n",
      "303/303 [==============================] - 0s 85us/sample - loss: 0.0812 - val_loss: 0.1809\n",
      "Epoch 25/25\n",
      "303/303 [==============================] - 0s 79us/sample - loss: 0.0935 - val_loss: 0.1844\n"
     ]
    }
   ],
   "source": [
    "history = model.fit(X_train, Y_train, epochs=25, batch_size = 32, validation_split=0.25)   ### 훈련 데이터의 25%를 검증데이터로 사용\n"
   ]
  },
  {
   "cell_type": "code",
   "execution_count": 36,
   "metadata": {},
   "outputs": [
    {
     "data": {
      "image/png": "[encoded data removed]",
      "text/plain": [
       "<Figure size 432x288 with 1 Axes>"
      ]
     },
     "metadata": {
      "needs_background": "light"
     },
     "output_type": "display_data"
    }
   ],
   "source": [
    "plt.plot(history.history['loss'], 'b-', label='loss')\n",
    "plt.plot(history.history['val_loss'], 'r--', label='val_loss')\n",
    "plt.show()"
   ]
  },
  {
   "cell_type": "code",
   "execution_count": 38,
   "metadata": {},
   "outputs": [
    {
     "name": "stdout",
     "output_type": "stream",
     "text": [
      "\r",
      "102/1 [====================================================================================================================================================================================================================================================================================================================================================================================================================================================================================================================================================================================================================================================================================================================================================================================================================================================================================================================================================================================================================================================================================================================================================================================================================================================================================================================================================================================================================================================================================================================================================================================================================================================================================================================================================================================================================================================================================================================================================================================================================================================================================================================================================================================================================================================================================================================================================================================================================================================================================================================================================================================================================================================================================================================================================================================================================================================================================================================================================================================================================================================================================================================================================================================] - 0s 49us/sample - loss: 0.7515\n"
     ]
    },
    {
     "data": {
      "text/plain": [
       "0.2806928601919436"
      ]
     },
     "execution_count": 38,
     "metadata": {},
     "output_type": "execute_result"
    }
   ],
   "source": [
    "##자세히 보시면 loss는 꾸준히 감소하지만 val_loss는 loss보다 크고, 증가하거나 유지하는 양상을 보입니다.\n",
    "##검증 셋에 대한 정확도를 높일 필요가 보이지만 일단은 현 상태에서 테스트 셋을 통해 회귀 모델을 평가해보겠습니다.\n",
    "\n",
    "model.evaluate(X_test, Y_test)"
   ]
  },
  {
   "cell_type": "code",
   "execution_count": 41,
   "metadata": {},
   "outputs": [
    {
     "data": {
      "image/png": "[encoded data removed]",
      "text/plain": [
       "<Figure size 360x360 with 1 Axes>"
      ]
     },
     "metadata": {
      "needs_background": "light"
     },
     "output_type": "display_data"
    }
   ],
   "source": [
    "##얼마나 잘 예측했는지 확인하기 위해 실제 가격과 예측 가격을 1대1로 비교해보겠습니다.\n",
    "\n",
    "pred_Y = model.predict(X_test)\n",
    "\n",
    "plt.figure(figsize=(5,5))\n",
    "plt.plot(Y_test, pred_Y, 'b.')\n",
    "plt.axis([min(Y_test), max(Y_test), min(Y_test), max(Y_test)])\n",
    "\n",
    "# y=x에 해당하는 대각선\n",
    "plt.plot([min(Y_test), max(Y_test)], [min(Y_test), max(Y_test)], ls=\"--\", c=\".3\")\n",
    "plt.xlabel('Y_test')\n",
    "plt.ylabel('pred_Y')\n",
    "\n",
    "plt.show()"
   ]
  },
  {
   "cell_type": "code",
   "execution_count": 56,
   "metadata": {},
   "outputs": [
    {
     "name": "stdout",
     "output_type": "stream",
     "text": [
      "Train on 303 samples, validate on 101 samples\n",
      "Epoch 1/25\n",
      "303/303 [==============================] - 0s 99us/sample - loss: 0.1256 - val_loss: 0.2122\n",
      "Epoch 2/25\n",
      "303/303 [==============================] - 0s 95us/sample - loss: 0.1151 - val_loss: 0.2709\n",
      "Epoch 3/25\n",
      "303/303 [==============================] - 0s 89us/sample - loss: 0.1038 - val_loss: 0.1436\n",
      "Epoch 4/25\n",
      "303/303 [==============================] - 0s 89us/sample - loss: 0.0942 - val_loss: 0.1872\n",
      "Epoch 5/25\n",
      "303/303 [==============================] - 0s 92us/sample - loss: 0.1405 - val_loss: 0.1742\n",
      "Epoch 6/25\n",
      "303/303 [==============================] - 0s 82us/sample - loss: 0.1456 - val_loss: 0.1282\n",
      "Epoch 7/25\n",
      "303/303 [==============================] - 0s 86us/sample - loss: 0.0960 - val_loss: 0.1463\n",
      "Epoch 8/25\n",
      "303/303 [==============================] - 0s 105us/sample - loss: 0.1139 - val_loss: 0.1171\n",
      "Epoch 9/25\n",
      "303/303 [==============================] - 0s 76us/sample - loss: 0.0708 - val_loss: 0.1226\n",
      "Epoch 10/25\n",
      "303/303 [==============================] - 0s 95us/sample - loss: 0.0607 - val_loss: 0.1209\n",
      "Epoch 11/25\n",
      "303/303 [==============================] - 0s 92us/sample - loss: 0.0485 - val_loss: 0.1021\n",
      "Epoch 12/25\n",
      "303/303 [==============================] - 0s 89us/sample - loss: 0.0424 - val_loss: 0.1115\n",
      "Epoch 13/25\n",
      "303/303 [==============================] - 0s 76us/sample - loss: 0.0378 - val_loss: 0.1065\n",
      "Epoch 14/25\n",
      "303/303 [==============================] - 0s 89us/sample - loss: 0.0412 - val_loss: 0.1234\n"
     ]
    }
   ],
   "source": [
    "##중간중간 직선에서 떨어진 점이 보입니다. 따라서 과적합이 일어나지 않도록 검증 셋에 대해서 정확도를 높인다면 \n",
    "##테스트 셋에서도 정확도를 높일 수 있을 것입니다. \n",
    "##val_loss가 높아지지 않도록, 학습 도중에 끼어들어서 학습을 멈춰야합니다.\n",
    "##이를 위해 callback 함수를 사용합니다. fit메서드 인자로 전달하면 됩니다.\n",
    "\n",
    "history = model.fit(X_train, Y_train, epochs=25, batch_size=32, validation_split = 0.25, \n",
    "                   callbacks=[tf.keras.callbacks.EarlyStopping(patience=3, monitor='val_loss')])\n",
    "\n",
    "\n",
    "##val_loss가 3회동안 최고 기록을 갱신하지 못하면 학습을 멈추게 됩니다."
   ]
  },
  {
   "cell_type": "code",
   "execution_count": 57,
   "metadata": {},
   "outputs": [
    {
     "data": {
      "image/png": "[encoded data removed]",
      "text/plain": [
       "<Figure size 432x288 with 1 Axes>"
      ]
     },
     "metadata": {
      "needs_background": "light"
     },
     "output_type": "display_data"
    }
   ],
   "source": [
    "plt.plot(history.history['loss'], 'b-', label='loss')\n",
    "plt.plot(history.history['val_loss'], 'r--', label='val_loss')\n",
    "plt.show()"
   ]
  },
  {
   "cell_type": "code",
   "execution_count": 58,
   "metadata": {},
   "outputs": [
    {
     "name": "stdout",
     "output_type": "stream",
     "text": [
      "\r",
      "102/1 [====================================================================================================================================================================================================================================================================================================================================================================================================================================================================================================================================================================================================================================================================================================================================================================================================================================================================================================================================================================================================================================================================================================================================================================================================================================================================================================================================================================================================================================================================================================================================================================================================================================================================================================================================================================================================================================================================================================================================================================================================================================================================================================================================================================================================================================================================================================================================================================================================================================================================================================================================================================================================================================================================================================================================================================================================================================================================================================================================================================================================================================================================================================================================================================================] - 0s 59us/sample - loss: 0.2060\n"
     ]
    },
    {
     "data": {
      "text/plain": [
       "0.20112787362407236"
      ]
     },
     "execution_count": 58,
     "metadata": {},
     "output_type": "execute_result"
    }
   ],
   "source": [
    "model.evaluate(X_test, Y_test)"
   ]
  },
  {
   "cell_type": "code",
   "execution_count": 59,
   "metadata": {},
   "outputs": [
    {
     "data": {
      "image/png": "[encoded data removed]",
      "text/plain": [
       "<Figure size 360x360 with 1 Axes>"
      ]
     },
     "metadata": {
      "needs_background": "light"
     },
     "output_type": "display_data"
    }
   ],
   "source": [
    "pred_Y = model.predict(X_test)\n",
    "\n",
    "plt.figure(figsize=(5,5))\n",
    "plt.plot(Y_test, pred_Y, 'b.')\n",
    "plt.axis([min(Y_test), max(Y_test), min(Y_test), max(Y_test)])\n",
    "\n",
    "# y=x에 해당하는 대각선\n",
    "plt.plot([min(Y_test), max(Y_test)], [min(Y_test), max(Y_test)], ls=\"--\", c=\".3\")\n",
    "plt.xlabel('Y_test')\n",
    "plt.ylabel('pred_Y')\n",
    "\n",
    "plt.show()"
   ]
  },
  {
   "cell_type": "code",
   "execution_count": null,
   "metadata": {},
   "outputs": [],
   "source": [
    "##그래프를 보시면 앞선 그래프보다 직선에 더 가깝게 분포한 것을 확인할 수 있습니다."
   ]
  }
 ],
 "metadata": {
  "kernelspec": {
   "display_name": "Python 3",
   "language": "python",
   "name": "python3"
  },
  "language_info": {
   "codemirror_mode": {
    "name": "ipython",
    "version": 3
   },
   "file_extension": ".py",
   "mimetype": "text/x-python",
   "name": "python",
   "nbconvert_exporter": "python",
   "pygments_lexer": "ipython3",
   "version": "3.7.7"
  }
 },
 "nbformat": 4,
 "nbformat_minor": 4
}
